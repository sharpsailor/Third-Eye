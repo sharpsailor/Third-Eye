{
 "cells": [
  {
   "cell_type": "code",
   "execution_count": null,
   "id": "8a67ce0f",
   "metadata": {},
   "outputs": [],
   "source": [
    "import cv2\n",
    "from glob import glob\n",
    "from pathlib import Path\n",
    "\n",
    "from model import Model\n",
    "from utils import plot"
   ]
  },
  {
   "cell_type": "code",
   "execution_count": null,
   "id": "ec0cf533",
   "metadata": {},
   "outputs": [],
   "source": [
    "model = Model()"
   ]
  },
  {
   "cell_type": "code",
   "execution_count": null,
   "id": "7b2105b7",
   "metadata": {},
   "outputs": [],
   "source": [
    "image_pathes = glob('./data/*.jpg')\n",
    "image_pathes += glob('./data/*.png')\n",
    "image_pathes[:2]"
   ]
  },
  {
   "cell_type": "code",
   "execution_count": null,
   "id": "d92ca6e9",
   "metadata": {},
   "outputs": [],
   "source": [
    "save_folder_path = Path('results')"
   ]
  },
  {
   "cell_type": "code",
   "execution_count": null,
   "id": "2f96299b",
   "metadata": {
    "scrolled": false
   },
   "outputs": [],
   "source": [
    "for i, image_path in enumerate(image_pathes):\n",
    "    image = cv2.imread(image_path)\n",
    "    image = cv2.cvtColor(image, cv2.COLOR_BGR2RGB)\n",
    "    label = model.predict(image)['label']\n",
    "    plot(image=image, title=label, \n",
    "         save_path=save_folder_path / f'{i}.jpg')"
   ]
  },
  {
   "cell_type": "markdown",
   "id": "6fd10a07",
   "metadata": {},
   "source": [
    "# Read video \n",
    "### and save predictions for each frame as another video"
   ]
  },
  {
   "cell_type": "code",
   "execution_count": null,
   "id": "3ced4a07",
   "metadata": {},
   "outputs": [],
   "source": [
    "def process_video(input_video_path: str, output_path: str):\n",
    "    cap = cv2.VideoCapture(video_path)\n",
    "    width = int(cap.get(cv2.CAP_PROP_FRAME_WIDTH) + 0.5)\n",
    "    height = int(cap.get(cv2.CAP_PROP_FRAME_HEIGHT) + 0.5)\n",
    "    size = (width, height)\n",
    "    fourcc = cv2.VideoWriter_fourcc(*'XVID')\n",
    "    fps = int(cap.get(cv2.CAP_PROP_FPS) + 0.5)\n",
    "    print('FPS', fps)\n",
    "    success, frame = cap.read()\n",
    "    \n",
    "    out = cv2.VideoWriter(save_video_path, fourcc, fps, size)\n",
    "    success = True\n",
    "\n",
    "\n",
    "    while success and cap.isOpened():\n",
    "\n",
    "        frame = cv2.cvtColor(frame, cv2.COLOR_BGR2RGB)\n",
    "        prediction = model.predict(frame)\n",
    "        label = prediction['label']\n",
    "        conf = prediction['confidence']\n",
    "        frame = cv2.cvtColor(frame, cv2.COLOR_RGB2BGR)\n",
    "        frame = cv2.putText(frame, label.title(), \n",
    "                            (0, 100), \n",
    "                            cv2.FONT_HERSHEY_SIMPLEX, 1, \n",
    "                            (0, 0, 255), 2)\n",
    "\n",
    "        cv2.imshow('Recording...', frame)\n",
    "        if cv2.waitKey(1) & 0xFF == ord('q'):\n",
    "            break\n",
    "        out.write(frame)\n",
    "        success, frame = cap.read()\n",
    "\n",
    "    cap.release()\n",
    "    out.release()\n",
    "    cv2.destroyAllWindows()"
   ]
  },
  {
   "cell_type": "code",
   "execution_count": null,
   "id": "c3dfbe55",
   "metadata": {},
   "outputs": [],
   "source": [
    "video_path = './data/fire.mp4'\n",
    "save_video_path = str(save_folder_path / 'result_fire.avi')\n",
    "\n",
    "process_video(video_path, save_video_path)"
   ]
  },
  {
   "cell_type": "code",
   "execution_count": null,
   "id": "53a2afdb",
   "metadata": {},
   "outputs": [],
   "source": [
    "video_path = './data/office_fight.mp4'\n",
    "save_video_path = str(save_folder_path / 'result_fight.avi')\n",
    "\n",
    "process_video(video_path, save_video_path)"
   ]
  },
  {
   "cell_type": "code",
   "execution_count": null,
   "id": "cd533ee0",
   "metadata": {},
   "outputs": [],
   "source": []
  }
 ],
 "metadata": {
  "kernelspec": {
   "display_name": "Python 3 (ipykernel)",
   "language": "python",
   "name": "python3"
  },
  "language_info": {
   "codemirror_mode": {
    "name": "ipython",
    "version": 3
   },
   "file_extension": ".py",
   "mimetype": "text/x-python",
   "name": "python",
   "nbconvert_exporter": "python",
   "pygments_lexer": "ipython3",
   "version": "3.11.3"
  }
 },
 "nbformat": 4,
 "nbformat_minor": 5
}
